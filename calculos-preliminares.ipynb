{
 "cells": [
  {
   "cell_type": "code",
   "execution_count": 1,
   "id": "0dbf2962",
   "metadata": {},
   "outputs": [],
   "source": [
    "import sympy as sp\n",
    "sp.init_printing(use_unicode=True)\n",
    "from IPython.display import display, Math\n",
    "import numpy as np\n",
    "import matplotlib.pyplot as plt\n",
    "\n"
   ]
  },
  {
   "cell_type": "code",
   "execution_count": 2,
   "id": "77379a23",
   "metadata": {},
   "outputs": [
    {
     "data": {
      "image/png": "[encoded data removed]",
      "text/latex": [
       "$\\displaystyle \\sqrt{3}$"
      ],
      "text/plain": [
       "√3"
      ]
     },
     "execution_count": 2,
     "metadata": {},
     "output_type": "execute_result"
    }
   ],
   "source": [
    "sp.sqrt(3)"
   ]
  },
  {
   "cell_type": "code",
   "execution_count": 3,
   "id": "b58a5dd7",
   "metadata": {},
   "outputs": [
    {
     "data": {
      "image/png": "[encoded data removed]",
      "text/latex": [
       "$\\displaystyle 2 x + y$"
      ],
      "text/plain": [
       "2⋅x + y"
      ]
     },
     "execution_count": 3,
     "metadata": {},
     "output_type": "execute_result"
    }
   ],
   "source": [
    "x, y = sp.symbols('x y')\n",
    "2*x + y"
   ]
  },
  {
   "cell_type": "code",
   "execution_count": 4,
   "id": "ac8dc7d9",
   "metadata": {},
   "outputs": [
    {
     "data": {
      "image/png": "[encoded data removed]",
      "text/latex": [
       "$\\displaystyle \\nu$"
      ],
      "text/plain": [
       "ν"
      ]
     },
     "execution_count": 4,
     "metadata": {},
     "output_type": "execute_result"
    }
   ],
   "source": [
    "x, t, z, nu = sp.symbols('x t z nu')\n",
    "nu"
   ]
  },
  {
   "cell_type": "code",
   "execution_count": 5,
   "id": "b732121c",
   "metadata": {},
   "outputs": [
    {
     "data": {
      "image/png": "[encoded data removed]",
      "text/latex": [
       "$\\displaystyle e^{x} \\sin{\\left(x \\right)}$"
      ],
      "text/plain": [
       " x       \n",
       "ℯ ⋅sin(x)"
      ]
     },
     "metadata": {},
     "output_type": "display_data"
    },
    {
     "data": {
      "image/png": "[encoded data removed]",
      "text/latex": [
       "$\\displaystyle e^{x} \\sin{\\left(x \\right)} + e^{x} \\cos{\\left(x \\right)}$"
      ],
      "text/plain": [
       " x           x       \n",
       "ℯ ⋅sin(x) + ℯ ⋅cos(x)"
      ]
     },
     "metadata": {},
     "output_type": "display_data"
    }
   ],
   "source": [
    "expresion = sp.sin(x)*sp.exp(x)\n",
    "display(expresion)\n",
    "display(sp.diff(expresion, x))"
   ]
  },
  {
   "cell_type": "code",
   "execution_count": 6,
   "id": "4d924db3",
   "metadata": {},
   "outputs": [
    {
     "data": {
      "image/png": "[encoded data removed]",
      "text/latex": [
       "$\\displaystyle e^{x} \\sin{\\left(x \\right)} + e^{x} \\cos{\\left(x \\right)}$"
      ],
      "text/plain": [
       " x           x       \n",
       "ℯ ⋅sin(x) + ℯ ⋅cos(x)"
      ]
     },
     "metadata": {},
     "output_type": "display_data"
    },
    {
     "data": {
      "image/png": "[encoded data removed]",
      "text/latex": [
       "$\\displaystyle e^{x} \\sin{\\left(x \\right)}$"
      ],
      "text/plain": [
       " x       \n",
       "ℯ ⋅sin(x)"
      ]
     },
     "metadata": {},
     "output_type": "display_data"
    }
   ],
   "source": [
    "expresion = sp.exp(x)*sp.sin(x) + sp.exp(x)*sp.cos(x)\n",
    "display(expresion)\n",
    "display(sp.integrate(expresion, x))"
   ]
  },
  {
   "cell_type": "code",
   "execution_count": 7,
   "id": "277059ab",
   "metadata": {},
   "outputs": [
    {
     "data": {
      "image/png": "[encoded data removed]",
      "text/latex": [
       "$\\displaystyle \\frac{3 \\sqrt{2} \\sqrt{\\pi} S\\left(\\frac{\\sqrt{2}}{\\sqrt{\\pi}}\\right) \\Gamma\\left(\\frac{3}{4}\\right)}{8 \\Gamma\\left(\\frac{7}{4}\\right)}$"
      ],
      "text/plain": [
       "         ⎛√2⎞       \n",
       "3⋅√2⋅√π⋅S⎜──⎟⋅Γ(3/4)\n",
       "         ⎝√π⎠       \n",
       "────────────────────\n",
       "      8⋅Γ(7/4)      "
      ]
     },
     "execution_count": 7,
     "metadata": {},
     "output_type": "execute_result"
    }
   ],
   "source": [
    "sp.integrate(sp.sin(x**2), (x, 0,1))"
   ]
  },
  {
   "cell_type": "code",
   "execution_count": 8,
   "id": "eeb5b4e8",
   "metadata": {},
   "outputs": [
    {
     "data": {
      "image/png": "[encoded data removed]",
      "text/latex": [
       "$\\displaystyle \\left[ - \\sqrt{2}, \\  \\sqrt{2}\\right]$"
      ],
      "text/plain": [
       "[-√2, √2]"
      ]
     },
     "execution_count": 8,
     "metadata": {},
     "output_type": "execute_result"
    }
   ],
   "source": [
    "sp.solve(x**2 - 2, x)"
   ]
  },
  {
   "cell_type": "code",
   "execution_count": 9,
   "id": "4d4f6ae9",
   "metadata": {},
   "outputs": [
    {
     "data": {
      "text/latex": [
       "$\\displaystyle \\left[\\begin{matrix}1 & 2\\\\2 & 2\\end{matrix}\\right]$"
      ],
      "text/plain": [
       "⎡1  2⎤\n",
       "⎢    ⎥\n",
       "⎣2  2⎦"
      ]
     },
     "execution_count": 9,
     "metadata": {},
     "output_type": "execute_result"
    }
   ],
   "source": [
    "sp.Matrix([[1, 2], [2, 2]])"
   ]
  },
  {
   "cell_type": "code",
   "execution_count": 10,
   "id": "ee1e837e",
   "metadata": {},
   "outputs": [
    {
     "data": {
      "image/png": "[encoded data removed]",
      "text/latex": [
       "$\\displaystyle \\left\\{ \\frac{3}{2} - \\frac{\\sqrt{17}}{2} : 1, \\  \\frac{3}{2} + \\frac{\\sqrt{17}}{2} : 1\\right\\}$"
      ],
      "text/plain": [
       "⎧3   √17     3   √17   ⎫\n",
       "⎨─ - ───: 1, ─ + ───: 1⎬\n",
       "⎩2    2      2    2    ⎭"
      ]
     },
     "execution_count": 10,
     "metadata": {},
     "output_type": "execute_result"
    }
   ],
   "source": [
    "sp.Matrix([[1, 2], [2, 2]]).eigenvals()"
   ]
  },
  {
   "cell_type": "code",
   "execution_count": 11,
   "id": "cfd2dbda",
   "metadata": {},
   "outputs": [
    {
     "data": {
      "image/png": "[encoded data removed]",
      "text/latex": [
       "$\\displaystyle x + 1 = 4$"
      ],
      "text/plain": [
       "x + 1 = 4"
      ]
     },
     "execution_count": 11,
     "metadata": {},
     "output_type": "execute_result"
    }
   ],
   "source": [
    "sp.Eq(x + 1, 4)"
   ]
  },
  {
   "cell_type": "code",
   "execution_count": 12,
   "id": "b8bfab74",
   "metadata": {},
   "outputs": [
    {
     "data": {
      "image/png": "[encoded data removed]",
      "text/latex": [
       "$\\displaystyle \\cos{\\left(y \\right)} + 1$"
      ],
      "text/plain": [
       "cos(y) + 1"
      ]
     },
     "execution_count": 12,
     "metadata": {},
     "output_type": "execute_result"
    }
   ],
   "source": [
    "expr = sp.cos(x) + 1\n",
    "\n",
    "expr.subs(x, y)"
   ]
  },
  {
   "cell_type": "code",
   "execution_count": 13,
   "id": "ce01dc77",
   "metadata": {},
   "outputs": [
    {
     "data": {
      "image/png": "[encoded data removed]",
      "text/latex": [
       "$\\displaystyle x^{2} + 3 x - \\frac{1}{2}$"
      ],
      "text/plain": [
       " 2         1\n",
       "x  + 3⋅x - ─\n",
       "           2"
      ]
     },
     "execution_count": 13,
     "metadata": {},
     "output_type": "execute_result"
    }
   ],
   "source": [
    "str_expr = \"x**2 + 3*x - 1/2\"\n",
    "expr = sp.sympify(str_expr)\n",
    "expr"
   ]
  },
  {
   "cell_type": "code",
   "execution_count": 14,
   "id": "b2492b44",
   "metadata": {},
   "outputs": [
    {
     "data": {
      "image/png": "[encoded data removed]",
      "text/latex": [
       "$\\displaystyle 2 \\sqrt{2}$"
      ],
      "text/plain": [
       "2⋅√2"
      ]
     },
     "metadata": {},
     "output_type": "display_data"
    },
    {
     "data": {
      "image/png": "[encoded data removed]",
      "text/latex": [
       "$\\displaystyle 2.82842712474619$"
      ],
      "text/plain": [
       "2.82842712474619"
      ]
     },
     "execution_count": 14,
     "metadata": {},
     "output_type": "execute_result"
    }
   ],
   "source": [
    "expr = sp.sqrt(8)\n",
    "display(expr)\n",
    "expr.evalf()"
   ]
  },
  {
   "cell_type": "code",
   "execution_count": 15,
   "id": "1b908c23",
   "metadata": {},
   "outputs": [
    {
     "data": {
      "text/plain": [
       "True"
      ]
     },
     "execution_count": 15,
     "metadata": {},
     "output_type": "execute_result"
    }
   ],
   "source": [
    "isinstance(float(expr.evalf()), float)"
   ]
  },
  {
   "cell_type": "code",
   "execution_count": 16,
   "id": "98cd53fe",
   "metadata": {},
   "outputs": [
    {
     "data": {
      "text/plain": [
       "array([ 0.        ,  0.84147098,  0.90929743,  0.14112001, -0.7568025 ,\n",
       "       -0.95892427, -0.2794155 ,  0.6569866 ,  0.98935825,  0.41211849])"
      ]
     },
     "execution_count": 16,
     "metadata": {},
     "output_type": "execute_result"
    }
   ],
   "source": [
    "a = np.arange(10) \n",
    "expr = sp.sin(x)\n",
    "f = sp.lambdify(x, expr, \"numpy\") \n",
    "f(a) "
   ]
  },
  {
   "cell_type": "code",
   "execution_count": 17,
   "id": "4693dc27",
   "metadata": {},
   "outputs": [
    {
     "data": {
      "image/png": "[encoded data removed]",
      "text/latex": [
       "$\\displaystyle \\left[ x = y, \\  z\\right]$"
      ],
      "text/plain": [
       "[x = y, z]"
      ]
     },
     "metadata": {},
     "output_type": "display_data"
    },
    {
     "data": {
      "image/png": "[encoded data removed]",
      "text/latex": [
       "$\\displaystyle x = y$"
      ],
      "text/plain": [
       "x = y"
      ]
     },
     "execution_count": 17,
     "metadata": {},
     "output_type": "execute_result"
    }
   ],
   "source": [
    "a = [sp.Eq(x,y),z]\n",
    "display(a)\n",
    "a[0]"
   ]
  },
  {
   "cell_type": "code",
   "execution_count": 18,
   "id": "303f74c6",
   "metadata": {},
   "outputs": [
    {
     "data": {
      "image/png": "[encoded data removed]",
      "text/latex": [
       "$\\displaystyle V_{1}$"
      ],
      "text/plain": [
       "V₁"
      ]
     },
     "execution_count": 18,
     "metadata": {},
     "output_type": "execute_result"
    }
   ],
   "source": [
    "a = 1\n",
    "a_1 = sp.symbols(f'V_{a}')\n",
    "a_1"
   ]
  },
  {
   "cell_type": "code",
   "execution_count": 19,
   "id": "dfb31322",
   "metadata": {},
   "outputs": [
    {
     "data": {
      "image/png": "[encoded data removed]",
      "text/latex": [
       "$\\displaystyle G_{04} = G_{14} V_{1} g_{1}$"
      ],
      "text/plain": [
       "G₀₄ = G₁₄⋅V₁⋅g₁"
      ]
     },
     "metadata": {},
     "output_type": "display_data"
    },
    {
     "data": {
      "image/png": "[encoded data removed]",
      "text/latex": [
       "$\\displaystyle G_{14} = G_{04} V_{1} g_{1} + G_{24} V_{2} g_{1}$"
      ],
      "text/plain": [
       "G₁₄ = G₀₄⋅V₁⋅g₁ + G₂₄⋅V₂⋅g₁"
      ]
     },
     "metadata": {},
     "output_type": "display_data"
    },
    {
     "data": {
      "image/png": "[encoded data removed]",
      "text/latex": [
       "$\\displaystyle G_{24} = G_{14} V_{2} g_{1} + G_{34} V_{1} g_{1}$"
      ],
      "text/plain": [
       "G₂₄ = G₁₄⋅V₂⋅g₁ + G₃₄⋅V₁⋅g₁"
      ]
     },
     "metadata": {},
     "output_type": "display_data"
    },
    {
     "data": {
      "image/png": "[encoded data removed]",
      "text/latex": [
       "$\\displaystyle G_{34} = G_{24} V_{1} g_{1} + g_{1}$"
      ],
      "text/plain": [
       "G₃₄ = G₂₄⋅V₁⋅g₁ + g₁"
      ]
     },
     "metadata": {},
     "output_type": "display_data"
    }
   ],
   "source": [
    "N = 4  # Cambiar el nuemro de atomos, debe ser par porque se le agregan son anilos\n",
    "V_1 = sp.symbols('V_1')\n",
    "V_2 = sp.symbols('V_2')\n",
    "g_1 = sp.symbols('g_1')\n",
    "\n",
    "V_1, V_2, g_1 = sp.symbols('V_1 V_2 g_1')\n",
    "\n",
    "G = [sp.symbols(f'G_{i}{N}') for i in range(N)]\n",
    "\n",
    "equations = []\n",
    "for i in range(1, N + 1):\n",
    "    if i == 1:\n",
    "        equations.append(sp.Eq(G[i-1] , g_1*V_1*G[i]))\n",
    "    elif i == N:\n",
    "        equations.append(sp.Eq(G[i-1] , g_1 + g_1*V_1*G[i-2]))\n",
    "    elif i == 2:\n",
    "        equations.append(sp.Eq(G[i-1] , g_1*V_2*G[i]  + g_1*V_1*G[i-2]))\n",
    "    elif 2 <= i <= N-2:\n",
    "        equations.append(sp.Eq(G[i-1] , g_1*V_2*G[i]  + g_1*V_2*G[i-2]))\n",
    "    else:\n",
    "        equations.append(sp.Eq(G[i-1] , g_1*V_1*G[i]  + g_1*V_2*G[i-2]))\n",
    "\n",
    "for i in range(N): display(equations[i])\n"
   ]
  },
  {
   "cell_type": "code",
   "execution_count": 20,
   "id": "1f7c22c9",
   "metadata": {},
   "outputs": [
    {
     "data": {
      "image/png": "[encoded data removed]",
      "text/latex": [
       "$\\displaystyle \\left\\{ G_{04} : \\frac{V_{1}^{2} V_{2} g_{1}^{4}}{V_{1}^{4} g_{1}^{4} - 2 V_{1}^{2} g_{1}^{2} - V_{2}^{2} g_{1}^{2} + 1}, \\  G_{14} : \\frac{V_{1} V_{2} g_{1}^{3}}{V_{1}^{4} g_{1}^{4} - 2 V_{1}^{2} g_{1}^{2} - V_{2}^{2} g_{1}^{2} + 1}, \\  G_{24} : \\frac{- V_{1}^{3} g_{1}^{4} + V_{1} g_{1}^{2}}{V_{1}^{4} g_{1}^{4} - 2 V_{1}^{2} g_{1}^{2} - V_{2}^{2} g_{1}^{2} + 1}, \\  G_{34} : \\frac{- V_{1}^{2} g_{1}^{3} - V_{2}^{2} g_{1}^{3} + g_{1}}{V_{1}^{4} g_{1}^{4} - 2 V_{1}^{2} g_{1}^{2} - V_{2}^{2} g_{1}^{2} + 1}\\right\\}$"
      ],
      "text/plain": [
       "⎧                   2      4                                      3           \n",
       "⎪                 V₁ ⋅V₂⋅g₁                               V₁⋅V₂⋅g₁            \n",
       "⎨G₀₄: ─────────────────────────────────, G₁₄: ────────────────────────────────\n",
       "⎪       4   4       2   2     2   2             4   4       2   2     2   2   \n",
       "⎩     V₁ ⋅g₁  - 2⋅V₁ ⋅g₁  - V₂ ⋅g₁  + 1       V₁ ⋅g₁  - 2⋅V₁ ⋅g₁  - V₂ ⋅g₁  + \n",
       "\n",
       "                    3   4        2                       2   3     2   3      \n",
       "                - V₁ ⋅g₁  + V₁⋅g₁                    - V₁ ⋅g₁  - V₂ ⋅g₁  + g₁ \n",
       "─, G₂₄: ─────────────────────────────────, G₃₄: ──────────────────────────────\n",
       "          4   4       2   2     2   2             4   4       2   2     2   2 \n",
       "1       V₁ ⋅g₁  - 2⋅V₁ ⋅g₁  - V₂ ⋅g₁  + 1       V₁ ⋅g₁  - 2⋅V₁ ⋅g₁  - V₂ ⋅g₁  \n",
       "\n",
       "   ⎫\n",
       "   ⎪\n",
       "───⎬\n",
       "   ⎪\n",
       "+ 1⎭"
      ]
     },
     "metadata": {},
     "output_type": "display_data"
    }
   ],
   "source": [
    "soluciones = sp.solve(equations, G)#, dict=True)\n",
    "display(soluciones)"
   ]
  },
  {
   "cell_type": "code",
   "execution_count": 21,
   "id": "e94c9ebe",
   "metadata": {},
   "outputs": [
    {
     "data": {
      "image/png": "[encoded data removed]",
      "text/latex": [
       "$\\displaystyle \\frac{4 g_{0}^{6} v^{6} \\left(- g_{0}^{3} v^{3} + g_{0} v\\right) \\left(- g_{0}^{3} v^{2} + 2 g_{0}^{2} v + g_{0}\\right)}{\\left(- 3 g_{0}^{2} v^{2} + 1\\right)^{4} \\cdot \\left(\\frac{16 g_{0}^{12} v^{12}}{\\left(- 3 g_{0}^{2} v^{2} + 1\\right)^{4}} - \\frac{8 g_{0}^{6} v^{6}}{\\left(- 3 g_{0}^{2} v^{2} + 1\\right)^{2}} + 1 - \\frac{\\left(- g_{0}^{3} v^{3} + g_{0} v\\right)^{2}}{\\left(- 3 g_{0}^{2} v^{2} + 1\\right)^{2}}\\right)}$"
      ],
      "text/plain": [
       "                   6  6 ⎛    3  3       ⎞ ⎛    3  2       2       ⎞           \n",
       "               4⋅g₀ ⋅v ⋅⎝- g₀ ⋅v  + g₀⋅v⎠⋅⎝- g₀ ⋅v  + 2⋅g₀ ⋅v + g₀⎠           \n",
       "──────────────────────────────────────────────────────────────────────────────\n",
       "                  ⎛                                                           \n",
       "                4 ⎜        12  12               6  6           ⎛    3  3      \n",
       "⎛      2  2    ⎞  ⎜   16⋅g₀  ⋅v             8⋅g₀ ⋅v            ⎝- g₀ ⋅v  + g₀⋅\n",
       "⎝- 3⋅g₀ ⋅v  + 1⎠ ⋅⎜───────────────── - ───────────────── + 1 - ───────────────\n",
       "                  ⎜                4                   2                      \n",
       "                  ⎜⎛      2  2    ⎞    ⎛      2  2    ⎞        ⎛      2  2    \n",
       "                  ⎝⎝- 3⋅g₀ ⋅v  + 1⎠    ⎝- 3⋅g₀ ⋅v  + 1⎠        ⎝- 3⋅g₀ ⋅v  + 1\n",
       "\n",
       "    \n",
       "    \n",
       "────\n",
       "  2⎞\n",
       " ⎞ ⎟\n",
       "v⎠ ⎟\n",
       "───⎟\n",
       " 2 ⎟\n",
       "⎞  ⎟\n",
       "⎠  ⎠"
      ]
     },
     "metadata": {},
     "output_type": "display_data"
    },
    {
     "data": {
      "image/png": "[encoded data removed]",
      "text/latex": [
       "$\\displaystyle \\frac{- \\frac{4 g_{0}^{6} v^{6} \\left(- g_{0}^{3} v^{2} + 2 g_{0}^{2} v + g_{0}\\right)}{\\left(- 3 g_{0}^{2} v^{2} + 1\\right)^{3}} + \\frac{- g_{0}^{3} v^{2} + 2 g_{0}^{2} v + g_{0}}{- 3 g_{0}^{2} v^{2} + 1} - \\frac{\\left(- g_{0}^{3} v^{3} + g_{0} v\\right)^{2} \\left(- g_{0}^{3} v^{2} + 2 g_{0}^{2} v + g_{0}\\right)}{\\left(- 3 g_{0}^{2} v^{2} + 1\\right)^{3}}}{\\frac{16 g_{0}^{12} v^{12}}{\\left(- 3 g_{0}^{2} v^{2} + 1\\right)^{4}} - \\frac{8 g_{0}^{6} v^{6}}{\\left(- 3 g_{0}^{2} v^{2} + 1\\right)^{2}} + 1 - \\frac{\\left(- g_{0}^{3} v^{3} + g_{0} v\\right)^{2}}{\\left(- 3 g_{0}^{2} v^{2} + 1\\right)^{2}}}$"
      ],
      "text/plain": [
       "                                                                              \n",
       "      6  6 ⎛    3  2       2       ⎞       3  2       2          ⎛    3  3    \n",
       "  4⋅g₀ ⋅v ⋅⎝- g₀ ⋅v  + 2⋅g₀ ⋅v + g₀⎠   - g₀ ⋅v  + 2⋅g₀ ⋅v + g₀   ⎝- g₀ ⋅v  + g\n",
       "- ────────────────────────────────── + ─────────────────────── - ─────────────\n",
       "                          3                       2  2                        \n",
       "          ⎛      2  2    ⎞                  - 3⋅g₀ ⋅v  + 1                    \n",
       "          ⎝- 3⋅g₀ ⋅v  + 1⎠                                                    \n",
       "──────────────────────────────────────────────────────────────────────────────\n",
       "                                                                              \n",
       "                                12  12               6  6           ⎛    3  3 \n",
       "                           16⋅g₀  ⋅v             8⋅g₀ ⋅v            ⎝- g₀ ⋅v  \n",
       "                        ───────────────── - ───────────────── + 1 - ──────────\n",
       "                                        4                   2                 \n",
       "                        ⎛      2  2    ⎞    ⎛      2  2    ⎞        ⎛      2  \n",
       "                        ⎝- 3⋅g₀ ⋅v  + 1⎠    ⎝- 3⋅g₀ ⋅v  + 1⎠        ⎝- 3⋅g₀ ⋅v\n",
       "\n",
       "    2                          \n",
       "   ⎞  ⎛    3  2       2       ⎞\n",
       "₀⋅v⎠ ⋅⎝- g₀ ⋅v  + 2⋅g₀ ⋅v + g₀⎠\n",
       "───────────────────────────────\n",
       "                3              \n",
       "⎛      2  2    ⎞               \n",
       "⎝- 3⋅g₀ ⋅v  + 1⎠               \n",
       "───────────────────────────────\n",
       "       2                       \n",
       "      ⎞                        \n",
       "+ g₀⋅v⎠                        \n",
       "────────                       \n",
       "      2                        \n",
       "2    ⎞                         \n",
       "  + 1⎠                         "
      ]
     },
     "metadata": {},
     "output_type": "display_data"
    }
   ],
   "source": [
    "g0, v, E, eta = sp.symbols('g0 v E eta', real=True)\n",
    "g_0 = 1 / (E - 1j * eta)\n",
    "G1N_inter = soluciones[G[0]].subs({V_1: (2 * g0**3 * v**3) / (g0 - g0**3 * v**2 + 2 * g0**2 * v),\n",
    "                                   V_2: (g0 * v - g0**3 * v**3) / (g0 - g0**3 * v**2 + 2 * g0**2 * v),\n",
    "                                   g_1: (g0 - g0**3 * v**2 + 2 * g0**2 * v) / (1 - 3 * g0**2 * v**2)\n",
    "                                  })\n",
    "GNN_inter = soluciones[G[-1]].subs({V_1: (2 * g0**3 * v**3) / (g0 - g0**3 * v**2 + 2 * g0**2 * v),\n",
    "                                   V_2: (g0 * v - g0**3 * v**3) / (g0 - g0**3 * v**2 + 2 * g0**2 * v),\n",
    "                                   g_1: (g0 - g0**3 * v**2 + 2 * g0**2 * v) / (1 - 3 * g0**2 * v**2)\n",
    "                                  })\n",
    "display(G1N_inter)\n",
    "display(GNN_inter)"
   ]
  },
  {
   "cell_type": "code",
   "execution_count": 22,
   "id": "e8989793",
   "metadata": {},
   "outputs": [],
   "source": [
    "#G1N_inter = sp.simplify(G1N_inter)\n",
    "#GNN_inter = sp.simplify(GNN_inter)\n",
    "\n",
    "#display(G1N_inter)\n",
    "#display(GNN_inter)"
   ]
  },
  {
   "cell_type": "code",
   "execution_count": 23,
   "id": "cd74bc16",
   "metadata": {},
   "outputs": [
    {
     "data": {
      "image/png": "[encoded data removed]",
      "text/latex": [
       "$\\displaystyle \\frac{4 v^{6} \\left(- \\frac{v^{3}}{\\left(E - i \\eta\\right)^{3}} + \\frac{v}{E - i \\eta}\\right) \\left(- \\frac{v^{2}}{\\left(E - i \\eta\\right)^{3}} + \\frac{2 v}{\\left(E - i \\eta\\right)^{2}} + \\frac{1}{E - i \\eta}\\right)}{\\left(E - i \\eta\\right)^{6} \\left(- \\frac{3 v^{2}}{\\left(E - i \\eta\\right)^{2}} + 1\\right)^{4} \\cdot \\left(\\frac{16 v^{12}}{\\left(E - i \\eta\\right)^{12} \\left(- \\frac{3 v^{2}}{\\left(E - i \\eta\\right)^{2}} + 1\\right)^{4}} - \\frac{8 v^{6}}{\\left(E - i \\eta\\right)^{6} \\left(- \\frac{3 v^{2}}{\\left(E - i \\eta\\right)^{2}} + 1\\right)^{2}} + 1 - \\frac{\\left(- \\frac{v^{3}}{\\left(E - i \\eta\\right)^{3}} + \\frac{v}{E - i \\eta}\\right)^{2}}{\\left(- \\frac{3 v^{2}}{\\left(E - i \\eta\\right)^{2}} + 1\\right)^{2}}\\right)}$"
      ],
      "text/plain": [
       "                                    ⎛       3              ⎞ ⎛       2        \n",
       "                                  6 ⎜      v           v   ⎟ ⎜      v         \n",
       "                               4⋅v ⋅⎜- ────────── + ───────⎟⋅⎜- ────────── + ─\n",
       "                                    ⎜           3   E - ⅈ⋅η⎟ ⎜           3    \n",
       "                                    ⎝  (E - ⅈ⋅η)           ⎠ ⎝  (E - ⅈ⋅η)    (\n",
       "──────────────────────────────────────────────────────────────────────────────\n",
       "                               ⎛                                              \n",
       "                               ⎜                                              \n",
       "                               ⎜                                              \n",
       "                             4 ⎜                                              \n",
       "           ⎛        2       ⎞  ⎜                 12                           \n",
       "         6 ⎜     3⋅v        ⎟  ⎜             16⋅v                             \n",
       "(E - ⅈ⋅η) ⋅⎜- ────────── + 1⎟ ⋅⎜─────────────────────────────── - ────────────\n",
       "           ⎜           2    ⎟  ⎜                              4               \n",
       "           ⎝  (E - ⅈ⋅η)     ⎠  ⎜            ⎛        2       ⎞               ⎛\n",
       "                               ⎜         12 ⎜     3⋅v        ⎟             6 ⎜\n",
       "                               ⎜(E - ⅈ⋅η)  ⋅⎜- ────────── + 1⎟    (E - ⅈ⋅η) ⋅⎜\n",
       "                               ⎜            ⎜           2    ⎟               ⎜\n",
       "                               ⎝            ⎝  (E - ⅈ⋅η)     ⎠               ⎝\n",
       "\n",
       "                   ⎞                               \n",
       "  2⋅v          1   ⎟                               \n",
       "───────── + ───────⎟                               \n",
       "        2   E - ⅈ⋅η⎟                               \n",
       "E - ⅈ⋅η)           ⎠                               \n",
       "───────────────────────────────────────────────────\n",
       "                                                 2⎞\n",
       "                         ⎛       3              ⎞ ⎟\n",
       "                         ⎜      v           v   ⎟ ⎟\n",
       "                         ⎜- ────────── + ───────⎟ ⎟\n",
       "    6                    ⎜           3   E - ⅈ⋅η⎟ ⎟\n",
       " 8⋅v                     ⎝  (E - ⅈ⋅η)           ⎠ ⎟\n",
       "────────────────── + 1 - ─────────────────────────⎟\n",
       "                 2                            2   ⎟\n",
       "        2       ⎞           ⎛        2       ⎞    ⎟\n",
       "     3⋅v        ⎟           ⎜     3⋅v        ⎟    ⎟\n",
       "- ────────── + 1⎟           ⎜- ────────── + 1⎟    ⎟\n",
       "           2    ⎟           ⎜           2    ⎟    ⎟\n",
       "  (E - ⅈ⋅η)     ⎠           ⎝  (E - ⅈ⋅η)     ⎠    ⎠"
      ]
     },
     "metadata": {},
     "output_type": "display_data"
    },
    {
     "data": {
      "image/png": "[encoded data removed]",
      "text/latex": [
       "$\\displaystyle \\frac{- \\frac{4 v^{6} \\left(- \\frac{v^{2}}{\\left(E - i \\eta\\right)^{3}} + \\frac{2 v}{\\left(E - i \\eta\\right)^{2}} + \\frac{1}{E - i \\eta}\\right)}{\\left(E - i \\eta\\right)^{6} \\left(- \\frac{3 v^{2}}{\\left(E - i \\eta\\right)^{2}} + 1\\right)^{3}} + \\frac{- \\frac{v^{2}}{\\left(E - i \\eta\\right)^{3}} + \\frac{2 v}{\\left(E - i \\eta\\right)^{2}} + \\frac{1}{E - i \\eta}}{- \\frac{3 v^{2}}{\\left(E - i \\eta\\right)^{2}} + 1} - \\frac{\\left(- \\frac{v^{3}}{\\left(E - i \\eta\\right)^{3}} + \\frac{v}{E - i \\eta}\\right)^{2} \\left(- \\frac{v^{2}}{\\left(E - i \\eta\\right)^{3}} + \\frac{2 v}{\\left(E - i \\eta\\right)^{2}} + \\frac{1}{E - i \\eta}\\right)}{\\left(- \\frac{3 v^{2}}{\\left(E - i \\eta\\right)^{2}} + 1\\right)^{3}}}{\\frac{16 v^{12}}{\\left(E - i \\eta\\right)^{12} \\left(- \\frac{3 v^{2}}{\\left(E - i \\eta\\right)^{2}} + 1\\right)^{4}} - \\frac{8 v^{6}}{\\left(E - i \\eta\\right)^{6} \\left(- \\frac{3 v^{2}}{\\left(E - i \\eta\\right)^{2}} + 1\\right)^{2}} + 1 - \\frac{\\left(- \\frac{v^{3}}{\\left(E - i \\eta\\right)^{3}} + \\frac{v}{E - i \\eta}\\right)^{2}}{\\left(- \\frac{3 v^{2}}{\\left(E - i \\eta\\right)^{2}} + 1\\right)^{2}}}$"
      ],
      "text/plain": [
       "                                                                              \n",
       "       ⎛       2                           ⎞          2                       \n",
       "     6 ⎜      v           2⋅v          1   ⎟         v           2⋅v          \n",
       "  4⋅v ⋅⎜- ────────── + ────────── + ───────⎟   - ────────── + ────────── + ───\n",
       "       ⎜           3            2   E - ⅈ⋅η⎟              3            2   E -\n",
       "       ⎝  (E - ⅈ⋅η)    (E - ⅈ⋅η)           ⎠     (E - ⅈ⋅η)    (E - ⅈ⋅η)       \n",
       "- ────────────────────────────────────────── + ───────────────────────────────\n",
       "                                     3                           2            \n",
       "                   ⎛        2       ⎞                         3⋅v             \n",
       "                 6 ⎜     3⋅v        ⎟                    - ────────── + 1     \n",
       "        (E - ⅈ⋅η) ⋅⎜- ────────── + 1⎟                               2         \n",
       "                   ⎜           2    ⎟                      (E - ⅈ⋅η)          \n",
       "                   ⎝  (E - ⅈ⋅η)     ⎠                                         \n",
       "──────────────────────────────────────────────────────────────────────────────\n",
       "                                                                              \n",
       "                                                                              \n",
       "                                                                              \n",
       "                                                                              \n",
       "                                           12                               6 \n",
       "                                       16⋅v                              8⋅v  \n",
       "                          ─────────────────────────────── - ──────────────────\n",
       "                                                        4                     \n",
       "                                      ⎛        2       ⎞               ⎛      \n",
       "                                   12 ⎜     3⋅v        ⎟             6 ⎜     3\n",
       "                          (E - ⅈ⋅η)  ⋅⎜- ────────── + 1⎟    (E - ⅈ⋅η) ⋅⎜- ────\n",
       "                                      ⎜           2    ⎟               ⎜      \n",
       "                                      ⎝  (E - ⅈ⋅η)     ⎠               ⎝  (E -\n",
       "\n",
       "                               2                                      \n",
       "       ⎛       3              ⎞  ⎛       2                           ⎞\n",
       "1      ⎜      v           v   ⎟  ⎜      v           2⋅v          1   ⎟\n",
       "────   ⎜- ────────── + ───────⎟ ⋅⎜- ────────── + ────────── + ───────⎟\n",
       " ⅈ⋅η   ⎜           3   E - ⅈ⋅η⎟  ⎜           3            2   E - ⅈ⋅η⎟\n",
       "       ⎝  (E - ⅈ⋅η)           ⎠  ⎝  (E - ⅈ⋅η)    (E - ⅈ⋅η)           ⎠\n",
       "──── - ───────────────────────────────────────────────────────────────\n",
       "                                               3                      \n",
       "                             ⎛        2       ⎞                       \n",
       "                             ⎜     3⋅v        ⎟                       \n",
       "                             ⎜- ────────── + 1⎟                       \n",
       "                             ⎜           2    ⎟                       \n",
       "                             ⎝  (E - ⅈ⋅η)     ⎠                       \n",
       "──────────────────────────────────────────────────────────────────────\n",
       "                                           2                          \n",
       "                   ⎛       3              ⎞                           \n",
       "                   ⎜      v           v   ⎟                           \n",
       "                   ⎜- ────────── + ───────⎟                           \n",
       "                   ⎜           3   E - ⅈ⋅η⎟                           \n",
       "                   ⎝  (E - ⅈ⋅η)           ⎠                           \n",
       "──────────── + 1 - ─────────────────────────                          \n",
       "           2                            2                             \n",
       "  2       ⎞           ⎛        2       ⎞                              \n",
       "⋅v        ⎟           ⎜     3⋅v        ⎟                              \n",
       "────── + 1⎟           ⎜- ────────── + 1⎟                              \n",
       "     2    ⎟           ⎜           2    ⎟                              \n",
       " ⅈ⋅η)     ⎠           ⎝  (E - ⅈ⋅η)     ⎠                              "
      ]
     },
     "metadata": {},
     "output_type": "display_data"
    }
   ],
   "source": [
    "G1N = G1N_inter.subs({g0: 1 / (E - sp.I * eta)})\n",
    "GNN = GNN_inter.subs({g0: 1 / (E - sp.I * eta)})\n",
    "\n",
    "display(G1N)\n",
    "display(GNN)"
   ]
  },
  {
   "cell_type": "code",
   "execution_count": 24,
   "id": "ea7055ff",
   "metadata": {},
   "outputs": [
    {
     "data": {
      "text/plain": [
       "(-1.4999838772906657-999.9882500594872j)"
      ]
     },
     "execution_count": 24,
     "metadata": {},
     "output_type": "execute_result"
    }
   ],
   "source": [
    "G1N_value = sp.lambdify([E, eta, v], G1N)\n",
    "GNN_value = sp.lambdify([E, eta, v], GNN)\n",
    "G1N_value(1,0.001,1)\n"
   ]
  },
  {
   "cell_type": "code",
   "execution_count": 25,
   "id": "fc4c9a83",
   "metadata": {},
   "outputs": [],
   "source": [
    "#gamma = 1\n",
    "#eta_v = 0.99999999\n",
    "\n",
    "#tau_E = gamma**2*(abs(G1N_value(1,1,eta_v) \n",
    "#                      / ( (1+1j*gamma*GNN_value(1,1,eta_v))**2 + (GNN_value(1,1,eta_v))**2*gamma**2/4 )\n",
    "#                     )**2)\n",
    "\n",
    "def tau_E(E,eta,v=1,gamma=1):\n",
    "    numerador = G1N_value(E,eta,v)\n",
    "    denom1 = (1+1j*gamma*GNN_value(1,eta,v))**2 \n",
    "    denom2 = (G1N_value(1,eta,v))**2*gamma**2/4\n",
    "    cuerpo = numerador/(denom1+denom2)\n",
    "    return gamma**2*abs(cuerpo)**2\n"
   ]
  },
  {
   "cell_type": "code",
   "execution_count": 26,
   "id": "e8e069df",
   "metadata": {},
   "outputs": [
    {
     "data": {
      "text/plain": [
       "[<matplotlib.lines.Line2D at 0x7f7e11732f50>]"
      ]
     },
     "execution_count": 26,
     "metadata": {},
     "output_type": "execute_result"
    },
    {
     "data": {
      "image/png": "[encoded data removed]",
      "text/plain": [
       "<Figure size 640x480 with 1 Axes>"
      ]
     },
     "metadata": {},
     "output_type": "display_data"
    }
   ],
   "source": [
    "E_ini = -2.5\n",
    "E_end = 2.5\n",
    "N_pasos = 200\n",
    "E_step = (E_end - E_ini) / N_pasos\n",
    "eta_v = E_step / 2500 #eta = La mitad del paso\n",
    "E_values = np.arange(E_ini, E_end, E_step)\n",
    "\n",
    "tau_values = []\n",
    "for i,E_value in enumerate(E_values):\n",
    "    tau_values.append(tau_E(E_value,E_step/2))\n",
    "    #print(f'paso {i+1}/{N_pasos}  :  energia {E_value}')\n",
    "\n",
    "#print(tau_values)\n",
    "plt.plot(E_values, tau_values, label='$\\\\tau(E)$')\n"
   ]
  },
  {
   "cell_type": "code",
   "execution_count": 27,
   "id": "6bdd4a17",
   "metadata": {},
   "outputs": [
    {
     "data": {
      "text/plain": [
       "[<matplotlib.lines.Line2D at 0x7f7e11a71590>]"
      ]
     },
     "execution_count": 27,
     "metadata": {},
     "output_type": "execute_result"
    },
    {
     "data": {
      "image/png": "[encoded data removed]",
      "text/plain": [
       "<Figure size 640x480 with 1 Axes>"
      ]
     },
     "metadata": {},
     "output_type": "display_data"
    }
   ],
   "source": [
    "plt.plot(E_values, tau_values, label='$\\\\tau(E)$')"
   ]
  },
  {
   "cell_type": "code",
   "execution_count": 28,
   "id": "5f9fa7f9",
   "metadata": {},
   "outputs": [],
   "source": [
    "#sp.expand_complex(G1N)\n",
    "#sp.conjugate(GNN)"
   ]
  },
  {
   "cell_type": "code",
   "execution_count": 29,
   "id": "143518fd",
   "metadata": {},
   "outputs": [
    {
     "data": {
      "image/png": "[encoded data removed]",
      "text/latex": [
       "$\\displaystyle - \\frac{4 v^{7} \\left(v^{2} - \\left(E - 1.0 i \\eta\\right)^{2}\\right) \\left(- v^{2} + 2 v \\left(E - 1.0 i \\eta\\right) + \\left(E - 1.0 i \\eta\\right)^{2}\\right)}{16 v^{12} - 8 v^{6} \\left(E - 1.0 i \\eta\\right)^{2} \\left(3 v^{2} - \\left(E - 1.0 i \\eta\\right)^{2}\\right)^{2} - v^{2} \\left(E - 1.0 i \\eta\\right)^{2} \\left(v^{2} - \\left(E - 1.0 i \\eta\\right)^{2}\\right)^{2} \\left(3 v^{2} - \\left(E - 1.0 i \\eta\\right)^{2}\\right)^{2} + \\left(E - 1.0 i \\eta\\right)^{4} \\left(3 v^{2} - \\left(E - 1.0 i \\eta\\right)^{2}\\right)^{4}}$"
      ],
      "text/plain": [
       "                                          7 ⎛ 2            2⎞ ⎛   2           \n",
       "                                      -4⋅v ⋅⎝v  - (E - ⅈ⋅η) ⎠⋅⎝- v  + 2⋅v⋅(E -\n",
       "──────────────────────────────────────────────────────────────────────────────\n",
       "                                            2                                 \n",
       "    12      6          2 ⎛   2            2⎞     2          2 ⎛ 2            2\n",
       "16⋅v   - 8⋅v ⋅(E - ⅈ⋅η) ⋅⎝3⋅v  - (E - ⅈ⋅η) ⎠  - v ⋅(E - ⅈ⋅η) ⋅⎝v  - (E - ⅈ⋅η) \n",
       "\n",
       "                 2⎞                                      \n",
       " ⅈ⋅η) + (E - ⅈ⋅η) ⎠                                      \n",
       "─────────────────────────────────────────────────────────\n",
       " 2                    2                                 4\n",
       "⎞  ⎛   2            2⎞             4 ⎛   2            2⎞ \n",
       "⎠ ⋅⎝3⋅v  - (E - ⅈ⋅η) ⎠  + (E - ⅈ⋅η) ⋅⎝3⋅v  - (E - ⅈ⋅η) ⎠ "
      ]
     },
     "metadata": {},
     "output_type": "display_data"
    },
    {
     "data": {
      "image/png": "[encoded data removed]",
      "text/latex": [
       "$\\displaystyle \\frac{\\left(E - 1.0 i \\eta\\right) \\left(3 v^{2} - \\left(E - 1.0 i \\eta\\right)^{2}\\right) \\left(4 v^{6} \\left(- v^{2} + 2 v \\left(E - 1.0 i \\eta\\right) + \\left(E - 1.0 i \\eta\\right)^{2}\\right) + v^{2} \\left(v^{2} - \\left(E - 1.0 i \\eta\\right)^{2}\\right)^{2} \\left(- v^{2} + 2 v \\left(E - 1.0 i \\eta\\right) + \\left(E - 1.0 i \\eta\\right)^{2}\\right) - \\left(E - 1.0 i \\eta\\right)^{2} \\left(3 v^{2} - \\left(E - 1.0 i \\eta\\right)^{2}\\right)^{2} \\left(- v^{2} + 2 v \\left(E - 1.0 i \\eta\\right) + \\left(E - 1.0 i \\eta\\right)^{2}\\right)\\right)}{16 v^{12} - 8 v^{6} \\left(E - 1.0 i \\eta\\right)^{2} \\left(3 v^{2} - \\left(E - 1.0 i \\eta\\right)^{2}\\right)^{2} - v^{2} \\left(E - 1.0 i \\eta\\right)^{2} \\left(v^{2} - \\left(E - 1.0 i \\eta\\right)^{2}\\right)^{2} \\left(3 v^{2} - \\left(E - 1.0 i \\eta\\right)^{2}\\right)^{2} + \\left(E - 1.0 i \\eta\\right)^{4} \\left(3 v^{2} - \\left(E - 1.0 i \\eta\\right)^{2}\\right)^{4}}$"
      ],
      "text/plain": [
       "                              ⎛                                               \n",
       "          ⎛   2            2⎞ ⎜   6 ⎛   2                            2⎞    2 ⎛\n",
       "(E - ⅈ⋅η)⋅⎝3⋅v  - (E - ⅈ⋅η) ⎠⋅⎝4⋅v ⋅⎝- v  + 2⋅v⋅(E - ⅈ⋅η) + (E - ⅈ⋅η) ⎠ + v ⋅⎝\n",
       "──────────────────────────────────────────────────────────────────────────────\n",
       "                                                                             2\n",
       "                                     12      6          2 ⎛   2            2⎞ \n",
       "                                 16⋅v   - 8⋅v ⋅(E - ⅈ⋅η) ⋅⎝3⋅v  - (E - ⅈ⋅η) ⎠ \n",
       "\n",
       "                2                                                             \n",
       " 2            2⎞  ⎛   2                            2⎞            2 ⎛   2      \n",
       "v  - (E - ⅈ⋅η) ⎠ ⋅⎝- v  + 2⋅v⋅(E - ⅈ⋅η) + (E - ⅈ⋅η) ⎠ - (E - ⅈ⋅η) ⋅⎝3⋅v  - (E \n",
       "──────────────────────────────────────────────────────────────────────────────\n",
       "                                  2                    2                      \n",
       "    2          2 ⎛ 2            2⎞  ⎛   2            2⎞             4 ⎛   2   \n",
       " - v ⋅(E - ⅈ⋅η) ⋅⎝v  - (E - ⅈ⋅η) ⎠ ⋅⎝3⋅v  - (E - ⅈ⋅η) ⎠  + (E - ⅈ⋅η) ⋅⎝3⋅v  - \n",
       "\n",
       "        2                                    ⎞\n",
       "      2⎞  ⎛   2                            2⎞⎟\n",
       "- ⅈ⋅η) ⎠ ⋅⎝- v  + 2⋅v⋅(E - ⅈ⋅η) + (E - ⅈ⋅η) ⎠⎠\n",
       "──────────────────────────────────────────────\n",
       "           4                                  \n",
       "         2⎞                                   \n",
       "(E - ⅈ⋅η) ⎠                                   "
      ]
     },
     "metadata": {},
     "output_type": "display_data"
    }
   ],
   "source": [
    "G1N = G1N_inter.subs({g0: 1 / (E - 1j * eta)})\n",
    "GNN = GNN_inter.subs({g0: 1 / (E - 1j * eta)})\n",
    "G1N = sp.simplify(G1N)\n",
    "GNN = sp.simplify(GNN)\n",
    "display(G1N)\n",
    "display(GNN)\n",
    "\n",
    "gamma = 1\n",
    "\n",
    "tau_E = gamma**2*(abs(G[0] / ( (1+1j*gamma*G[-1])**2 + (G[0])**2*gamma**2/4 ))**2)\n",
    "tau_E = tau_E.subs({G[0]: G1N, G[-1]: GNN})\n",
    "tau_f = sp.lambdify([E, eta, v] , tau_E)\n",
    "\n",
    "#sp.expand(G1N)\n",
    "#expr = (1/(E-sp.I*eta) + 1/(E-sp.I*eta)**2 + 1) / (1/(E-sp.I*eta)**3 + 1/(E-sp.I*eta)**4 + 1)\n",
    "#display( expr )\n",
    "#sp.expand_complex( expr )\n"
   ]
  },
  {
   "cell_type": "code",
   "execution_count": 30,
   "id": "8db861d9",
   "metadata": {},
   "outputs": [
    {
     "data": {
      "text/plain": [
       "(-3.241153790551564e-31-8.936731926156701e-56j)"
      ]
     },
     "execution_count": 30,
     "metadata": {},
     "output_type": "execute_result"
    }
   ],
   "source": [
    "tau_f(1,0.00000001,1)"
   ]
  },
  {
   "cell_type": "code",
   "execution_count": 43,
   "id": "ac435da1",
   "metadata": {},
   "outputs": [
    {
     "data": {
      "text/plain": [
       "[<matplotlib.lines.Line2D at 0x7f7e0fc358d0>]"
      ]
     },
     "execution_count": 43,
     "metadata": {},
     "output_type": "execute_result"
    },
    {
     "data": {
      "image/png": "[encoded data removed]",
      "text/plain": [
       "<Figure size 640x480 with 1 Axes>"
      ]
     },
     "metadata": {},
     "output_type": "display_data"
    }
   ],
   "source": [
    "#display(tau_E)\n",
    "\n",
    "E_ini = -2.5\n",
    "E_end = 2.5\n",
    "N_pasos = 200\n",
    "E_step = (E_end - E_ini) / N_pasos\n",
    "eta_v = E_step / 2500 #eta = La mitad del paso\n",
    "E_values = np.arange(E_ini, E_end, E_step)\n",
    "\n",
    "tau_values = []\n",
    "for i,E_value in enumerate(E_values):\n",
    "    tau_values.append(tau_f(E_value,E_step/2500,1))\n",
    "    #print(f'paso {i+1}/{N_pasos}  :  energia {E_value}')\n",
    "\n",
    "#print(tau_values)\n",
    "plt.plot(E_values, tau_values, label='$\\\\tau(E)$')\n"
   ]
  },
  {
   "cell_type": "code",
   "execution_count": 32,
   "id": "4033d08b",
   "metadata": {},
   "outputs": [
    {
     "data": {
      "image/png": "[encoded data removed]",
      "text/latex": [
       "$\\displaystyle \\Gamma^{2} \\left|{\\frac{G_{04}}{\\frac{G_{34}^{2} \\Gamma^{2}}{4} + \\left(\\frac{i G_{34} \\Gamma}{2} + 1\\right)^{2}}}\\right|^{2}$"
      ],
      "text/plain": [
       "                             2\n",
       " 2 │          G₀₄           │ \n",
       "Γ ⋅│────────────────────────│ \n",
       "   │   2  2                2│ \n",
       "   │G₃₄ ⋅Γ    ⎛ⅈ⋅G₃₄⋅Γ    ⎞ │ \n",
       "   │─────── + ⎜─────── + 1⎟ │ \n",
       "   │   4      ⎝   2       ⎠ │ "
      ]
     },
     "metadata": {},
     "output_type": "display_data"
    }
   ],
   "source": [
    "tau, gamma = sp.symbols('tau Gamma ', real=True)\n",
    "\n",
    "\n",
    "tau_E = gamma**2*(abs(G[0] / ( (1+sp.nsimplify(sp.Rational(1, 2)*sp.I)*gamma*G[-1])**2 + (G[-1])**2*gamma**2/4 ))**2)\n",
    "#sp.simplify( tau_E.subs({G[0]: G1N, G[-1]: GNN}) )\n",
    "display(tau_E)"
   ]
  },
  {
   "cell_type": "code",
   "execution_count": 33,
   "id": "5aab3d26",
   "metadata": {},
   "outputs": [],
   "source": [
    "#tau_E.subs({G[0]: G1N, G[-1]: GNN})"
   ]
  },
  {
   "cell_type": "code",
   "execution_count": 34,
   "id": "9f3df1f1",
   "metadata": {},
   "outputs": [],
   "source": [
    "#tau_E.subs({G[0]: G1N, G[-1]: GNN})\n",
    "#b = ((G[-1])**2*gamma**2/4).subs({G[-1]: GNN})\n",
    "#b"
   ]
  },
  {
   "cell_type": "code",
   "execution_count": 35,
   "id": "e6296b95",
   "metadata": {},
   "outputs": [],
   "source": [
    "#sp.simplify(((G[-1])**2*gamma**2/4).subs({G[-1]: GNN}))\n"
   ]
  },
  {
   "cell_type": "code",
   "execution_count": 36,
   "id": "8f563f3e",
   "metadata": {},
   "outputs": [],
   "source": [
    "#sp.simplify(((1+sp.Rational(1, 2)j*gamma*G[-1]/2)**2).subs({G[-1]: GNN}))\n"
   ]
  },
  {
   "cell_type": "code",
   "execution_count": 37,
   "id": "10b77aa5",
   "metadata": {},
   "outputs": [],
   "source": [
    "#display(\n",
    "#((1+sp.nsimplify(sp.Rational(1, 2)*sp.I)*gamma*G[-1])**2).subs({G[-1]: GNN})"
   ]
  },
  {
   "cell_type": "code",
   "execution_count": 38,
   "id": "3059d55e",
   "metadata": {},
   "outputs": [],
   "source": [
    "#a = sp.simplify(((1+sp.nsimplify(sp.Rational(1, 2)*sp.I)*gamma*G[-1])**2).subs({G[-1]: GNN}))\n",
    "#a"
   ]
  },
  {
   "cell_type": "code",
   "execution_count": 39,
   "id": "4a1e8739",
   "metadata": {},
   "outputs": [],
   "source": [
    "#c = sp.expand(a+b)\n",
    "#c"
   ]
  },
  {
   "cell_type": "code",
   "execution_count": 40,
   "id": "b7f0a62d",
   "metadata": {},
   "outputs": [],
   "source": [
    "#sp.simplify(G1N/c)"
   ]
  },
  {
   "cell_type": "code",
   "execution_count": 41,
   "id": "931b718a",
   "metadata": {},
   "outputs": [],
   "source": [
    "#sp.conjugate(G1N/c)*G1N/c"
   ]
  },
  {
   "cell_type": "code",
   "execution_count": 42,
   "id": "217954be",
   "metadata": {},
   "outputs": [
    {
     "data": {
      "image/png": "[encoded data removed]",
      "text/latex": [
       "$\\displaystyle 7.0$"
      ],
      "text/plain": [
       "7.00000000000000"
      ]
     },
     "execution_count": 42,
     "metadata": {},
     "output_type": "execute_result"
    }
   ],
   "source": [
    "x, y = sp.symbols('x y')\n",
    "expr = x**2 + y\n",
    "func = sp.lambdify([x,y], expr)\n",
    "func(2,1)\n",
    "expr.evalf(subs={x: 2, y: 3})"
   ]
  }
 ],
 "metadata": {
  "kernelspec": {
   "display_name": "Python 3 (ipykernel)",
   "language": "python",
   "name": "python3"
  },
  "language_info": {
   "codemirror_mode": {
    "name": "ipython",
    "version": 3
   },
   "file_extension": ".py",
   "mimetype": "text/x-python",
   "name": "python",
   "nbconvert_exporter": "python",
   "pygments_lexer": "ipython3",
   "version": "3.11.5"
  }
 },
 "nbformat": 4,
 "nbformat_minor": 5
}
