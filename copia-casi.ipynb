{
 "cells": [
  {
   "cell_type": "code",
   "execution_count": 5,
   "id": "7e01cef6",
   "metadata": {},
   "outputs": [],
   "source": [
    "import numpy as np\n",
    "import matplotlib.pyplot as plt\n",
    "import sympy as sp\n"
   ]
  },
  {
   "cell_type": "code",
   "execution_count": 6,
   "id": "61a622cf",
   "metadata": {},
   "outputs": [
    {
     "name": "stdout",
     "output_type": "stream",
     "text": [
      "Lista de ecuaciones:\n",
      "G14 = g_1 V_1 G24\n",
      "G24 = g_1 V_2 G34 + g_1 V_1 G14\n",
      "G34 = g_1 V_1 G44 + g_1 V_2 G24\n",
      "G44 = g_1 + g_1 V_1 G34\n"
     ]
    }
   ],
   "source": [
    "N = 4  # Cambiar el nuemro de atomos, debe ser par porque se le agregan son anilos\n",
    "V_1 = sp.symbols('V_1')\n",
    "V_2 = sp.symbols('V_2')\n",
    "g_1 = sp.symbols('g_1')\n",
    "\n",
    "equations = []\n",
    "\n",
    "# Inicializar las ecuaciones\n",
    "for i in range(1, N + 1):\n",
    "    if i == 1:\n",
    "        equations.append(f'G{i}{N} = g_1 V_1 G{i+1}{N}')\n",
    "    elif i == N:\n",
    "        equations.append(f'G{i}{N} = g_1 + g_1 V_1 G{i-1}{N}')\n",
    "    elif i == 2:\n",
    "        equations.append(f'G{i}{N} = g_1 V_2 G{i+1}{N} + g_1 V_1 G{i-1}{N}')\n",
    "    elif 2 <= i <= N-2:\n",
    "        equations.append(f'G{i}{N} = g_1 V_2 G{i+1}{N} + g_1 V_2 G{i-1}{N}')\n",
    "    else:\n",
    "        equations.append(f'G{i}{N} = g_1 V_1 G{i+1}{N} + g_1 V_2 G{i-1}{N}')\n",
    "\n",
    "# Imprimir la lista de ecuaciones\n",
    "print(\"Lista de ecuaciones:\")\n",
    "for equation in equations:\n",
    "    print(equation)\n"
   ]
  },
  {
   "cell_type": "code",
   "execution_count": 7,
   "id": "e947ec0f",
   "metadata": {},
   "outputs": [
    {
     "name": "stdout",
     "output_type": "stream",
     "text": [
      "\n",
      "Matriz de ecuaciones:\n",
      "⎡  1     -V₁⋅g₁    0       0   ⎤\n",
      "⎢                              ⎥\n",
      "⎢-V₁⋅g₁    1     -V₂⋅g₁    0   ⎥\n",
      "⎢                              ⎥\n",
      "⎢  0     -V₂⋅g₁    1     -V₁⋅g₁⎥\n",
      "⎢                              ⎥\n",
      "⎣  0       0     -V₁⋅g₁    1   ⎦\n"
     ]
    }
   ],
   "source": [
    "# Parte nueva para crear la matriz\n",
    "matrix = sp.zeros(N, N)\n",
    "\n",
    "# Llenar la matriz con términos negativos fuera de la diagonal principal\n",
    "for i in range(N):\n",
    "    for j in range(N):\n",
    "        if i == j:\n",
    "            matrix[i, j] = 1\n",
    "        elif i == j + 1:\n",
    "            matrix[i, j] = -V_1 * g_1 if (j == 0 or j == N - 2) else -V_2 * g_1\n",
    "        elif i + 1 == j:\n",
    "            matrix[i, j] = -V_1 * g_1 if (i == 0 or i == N - 2) else -V_2 * g_1\n",
    "\n",
    "# Imprimir la matriz\n",
    "print(\"\\nMatriz de ecuaciones:\")\n",
    "sp.pprint(matrix)\n",
    "\n"
   ]
  },
  {
   "cell_type": "code",
   "execution_count": 8,
   "id": "84a7a6f8",
   "metadata": {},
   "outputs": [
    {
     "name": "stdout",
     "output_type": "stream",
     "text": [
      "\n",
      "Determinante de la matriz:\n",
      "  4   4       2   2     2   2    \n",
      "V₁ ⋅g₁  - 2⋅V₁ ⋅g₁  - V₂ ⋅g₁  + 1\n",
      "\n",
      "Matriz de ecuaciones con la primera columna cambiada:\n",
      "⎡0   -V₁⋅g₁    0       0   ⎤\n",
      "⎢                          ⎥\n",
      "⎢0     1     -V₂⋅g₁    0   ⎥\n",
      "⎢                          ⎥\n",
      "⎢0   -V₂⋅g₁    1     -V₁⋅g₁⎥\n",
      "⎢                          ⎥\n",
      "⎣g₁    0     -V₁⋅g₁    1   ⎦\n",
      "\n",
      "Determinante de la matriz modificada:\n",
      "  2      4\n",
      "V₁ ⋅V₂⋅g₁ \n"
     ]
    }
   ],
   "source": [
    "# Parte nueva para calcular el determinante\n",
    "determinante = matrix.det()\n",
    "print(\"\\nDeterminante de la matriz:\")\n",
    "sp.pprint(determinante)\n",
    "\n",
    "# Parte nueva para cambiar la primera columna\n",
    "new_column = sp.Matrix([0]*(N-1) + [g_1])\n",
    "matrix[:, 0] = new_column\n",
    "\n",
    "# Imprimir la matriz modificada\n",
    "print(\"\\nMatriz de ecuaciones con la primera columna cambiada:\")\n",
    "sp.pprint(matrix)\n",
    "\n",
    "# Calcular e imprimir el determinante de la matriz modificada\n",
    "determinante_modificado = matrix.det()\n",
    "print(\"\\nDeterminante de la matriz modificada:\")\n",
    "sp.pprint(determinante_modificado)\n",
    "\n"
   ]
  },
  {
   "cell_type": "code",
   "execution_count": 9,
   "id": "d2ba4213",
   "metadata": {},
   "outputs": [
    {
     "name": "stdout",
     "output_type": "stream",
     "text": [
      "\n",
      "Matriz de ecuaciones con las columnas cambiadas:\n",
      "⎡  1     -V₁⋅g₁    0     0 ⎤\n",
      "⎢                          ⎥\n",
      "⎢-V₁⋅g₁    1     -V₂⋅g₁  0 ⎥\n",
      "⎢                          ⎥\n",
      "⎢  0     -V₂⋅g₁    1     0 ⎥\n",
      "⎢                          ⎥\n",
      "⎣  0       0     -V₁⋅g₁  g₁⎦\n",
      "\n",
      "Determinante de la matriz con las columnas cambiadas:\n",
      "   ⎛    2   2     2   2    ⎞\n",
      "g₁⋅⎝- V₁ ⋅g₁  - V₂ ⋅g₁  + 1⎠\n",
      "\n",
      "Valor de G_{1N}:\n",
      "              2      4           \n",
      "            V₁ ⋅V₂⋅g₁            \n",
      "─────────────────────────────────\n",
      "  4   4       2   2     2   2    \n",
      "V₁ ⋅g₁  - 2⋅V₁ ⋅g₁  - V₂ ⋅g₁  + 1\n",
      "\n",
      "Valor de G_{NN}:\n",
      "      ⎛    2   2     2   2    ⎞  \n",
      "   g₁⋅⎝- V₁ ⋅g₁  - V₂ ⋅g₁  + 1⎠  \n",
      "─────────────────────────────────\n",
      "  4   4       2   2     2   2    \n",
      "V₁ ⋅g₁  - 2⋅V₁ ⋅g₁  - V₂ ⋅g₁  + 1\n"
     ]
    }
   ],
   "source": [
    "# Parte nueva para cambiar la primera columna\n",
    "new_first_column = sp.Matrix([1] + [-V_1 * g_1] + [0] * (N - 2))\n",
    "matrix[:, 0] = new_first_column\n",
    "\n",
    "# Parte nueva para cambiar la última columna\n",
    "new_last_column = sp.Matrix([0] * (N - 1) + [g_1])\n",
    "matrix[:, -1] = new_last_column\n",
    "\n",
    "# Imprimir la matriz con las columnas cambiadas\n",
    "print(\"\\nMatriz de ecuaciones con las columnas cambiadas:\")\n",
    "sp.pprint(matrix)\n",
    "\n",
    "# Calcular e imprimir el determinante de la matriz con las columnas cambiadas\n",
    "determinante_columnas_modificadas = matrix.det()\n",
    "print(\"\\nDeterminante de la matriz con las columnas cambiadas:\")\n",
    "sp.pprint(determinante_columnas_modificadas)\n",
    "\n",
    "# Cálculo de G_{1N} y G_{NN}\n",
    "G_1N = determinante_modificado / determinante\n",
    "G_NN = determinante_columnas_modificadas / determinante\n",
    "\n",
    "print(\"\\nValor de G_{1N}:\")\n",
    "sp.pprint(G_1N)\n",
    "\n",
    "print(\"\\nValor de G_{NN}:\")\n",
    "sp.pprint(G_NN)\n",
    "\n"
   ]
  },
  {
   "cell_type": "code",
   "execution_count": 23,
   "id": "e5411c4d",
   "metadata": {},
   "outputs": [
    {
     "data": {
      "text/latex": [
       "$\\displaystyle \\frac{V_{1}^{2} V_{2} g_{1}^{4}}{V_{1}^{4} g_{1}^{4} - 2 V_{1}^{2} g_{1}^{2} - V_{2}^{2} g_{1}^{2} + 1}$"
      ],
      "text/plain": [
       "V_1**2*V_2*g_1**4/(V_1**4*g_1**4 - 2*V_1**2*g_1**2 - V_2**2*g_1**2 + 1)"
      ]
     },
     "metadata": {},
     "output_type": "display_data"
    },
    {
     "data": {
      "text/latex": [
       "$\\displaystyle \\frac{4 g_{0}^{6} v^{6} \\left(- g_{0}^{3} v^{3} + g_{0} v\\right) \\left(- g_{0}^{3} v^{2} + 2 g_{0}^{2} v + g_{0}\\right)}{\\left(- 3 g_{0}^{2} v^{2} + 1\\right)^{4} \\cdot \\left(\\frac{16 g_{0}^{12} v^{12}}{\\left(- 3 g_{0}^{2} v^{2} + 1\\right)^{4}} - \\frac{8 g_{0}^{6} v^{6}}{\\left(- 3 g_{0}^{2} v^{2} + 1\\right)^{2}} + 1 - \\frac{\\left(- g_{0}^{3} v^{3} + g_{0} v\\right)^{2}}{\\left(- 3 g_{0}^{2} v^{2} + 1\\right)^{2}}\\right)}$"
      ],
      "text/plain": [
       "4*g0**6*v**6*(-g0**3*v**3 + g0*v)*(-g0**3*v**2 + 2*g0**2*v + g0)/((-3*g0**2*v**2 + 1)**4*(16*g0**12*v**12/(-3*g0**2*v**2 + 1)**4 - 8*g0**6*v**6/(-3*g0**2*v**2 + 1)**2 + 1 - (-g0**3*v**3 + g0*v)**2/(-3*g0**2*v**2 + 1)**2))"
      ]
     },
     "metadata": {},
     "output_type": "display_data"
    },
    {
     "data": {
      "text/latex": [
       "$\\displaystyle \\frac{4 v^{6} \\left(- \\frac{v^{3}}{\\left(E - i \\eta\\right)^{3}} + \\frac{v}{E - i \\eta}\\right) \\left(- \\frac{v^{2}}{\\left(E - i \\eta\\right)^{3}} + \\frac{2 v}{\\left(E - i \\eta\\right)^{2}} + \\frac{1}{E - i \\eta}\\right)}{\\left(E - i \\eta\\right)^{6} \\left(- \\frac{3 v^{2}}{\\left(E - i \\eta\\right)^{2}} + 1\\right)^{4} \\cdot \\left(\\frac{16 v^{12}}{\\left(E - i \\eta\\right)^{12} \\left(- \\frac{3 v^{2}}{\\left(E - i \\eta\\right)^{2}} + 1\\right)^{4}} - \\frac{8 v^{6}}{\\left(E - i \\eta\\right)^{6} \\left(- \\frac{3 v^{2}}{\\left(E - i \\eta\\right)^{2}} + 1\\right)^{2}} + 1 - \\frac{\\left(- \\frac{v^{3}}{\\left(E - i \\eta\\right)^{3}} + \\frac{v}{E - i \\eta}\\right)^{2}}{\\left(- \\frac{3 v^{2}}{\\left(E - i \\eta\\right)^{2}} + 1\\right)^{2}}\\right)}$"
      ],
      "text/plain": [
       "4*v**6*(-v**3/(E - I*eta)**3 + v/(E - I*eta))*(-v**2/(E - I*eta)**3 + 2*v/(E - I*eta)**2 + 1/(E - I*eta))/((E - I*eta)**6*(-3*v**2/(E - I*eta)**2 + 1)**4*(16*v**12/((E - I*eta)**12*(-3*v**2/(E - I*eta)**2 + 1)**4) - 8*v**6/((E - I*eta)**6*(-3*v**2/(E - I*eta)**2 + 1)**2) + 1 - (-v**3/(E - I*eta)**3 + v/(E - I*eta))**2/(-3*v**2/(E - I*eta)**2 + 1)**2))"
      ]
     },
     "metadata": {},
     "output_type": "display_data"
    }
   ],
   "source": [
    "v = 1.0\n",
    "gamma = 1.0\n",
    "E_ini = -2.5\n",
    "E_end = 2.5\n",
    "N_pasos = 10\n",
    "\n",
    "E_step = (E_end - E_ini) / N_pasos\n",
    "eta = E_step / 2 #eta = La mitad del paso\n",
    "\n",
    "# Definir el rango de E\n",
    "E_values = np.arange(E_ini, E_end, E_step)\n",
    "\n",
    "def calculate_V1(g0, v):\n",
    "    return (2 * g0**3 * v**3) / (g0 - g0**3 * v**2 + 2 * g0**2 * v)\n",
    "\n",
    "def calculate_V2(g0, v):\n",
    "    return (g0 * v - g0**3 * v**3) / (g0 - g0**3 * v**2 + 2 * g0**2 * v)\n",
    "\n",
    "def calculate_g1(g0, v):\n",
    "    return (g0 - g0**3 * v**2 + 2 * g0**2 * v) / (1 - 3 * g0**2 * v**2)\n",
    "\n",
    "def calculate_g0(E, eta):\n",
    "    return 1 / (E - 1j * eta)\n",
    "\n",
    "g0, v, E, eta = sp.symbols('g0 v E eta', real=True)\n",
    "\n",
    "#g0 = calculate_g0(E, eta)\n",
    "V1 = calculate_V1(g0, v)\n",
    "V2 = calculate_V2(g0, v)\n",
    "g1 = calculate_g1(g0, v)\n",
    "\n",
    "# Calcular los determinantes y sustituir los valores\n",
    "G_1N_value = (G_1N).subs({V_1: V1, V_2: V2, g_1: g1}) #aca se repite\n",
    "G_NN_value = (G_NN).subs({V_1: V1, V_2: V2, g_1: g1})\n",
    "\n",
    "display(G_1N)\n",
    "display(G_1N_value)\n",
    "display(G_1N_value.subs({g0: 1 / (E - sp.I * eta)}))"
   ]
  },
  {
   "cell_type": "code",
   "execution_count": 6,
   "id": "9f62202c",
   "metadata": {},
   "outputs": [
    {
     "name": "stdout",
     "output_type": "stream",
     "text": [
      "paso 1/10  :  energia -2.5\n",
      "paso 2/10  :  energia -2.0\n",
      "paso 3/10  :  energia -1.5\n",
      "paso 4/10  :  energia -1.0\n",
      "paso 5/10  :  energia -0.5\n",
      "paso 6/10  :  energia 0.0\n",
      "paso 7/10  :  energia 0.5\n",
      "paso 8/10  :  energia 1.0\n",
      "paso 9/10  :  energia 1.5\n",
      "paso 10/10  :  energia 2.0\n"
     ]
    }
   ],
   "source": [
    "# Definir los parámetros\n",
    "v = 1.0\n",
    "gamma = 1.0\n",
    "E_ini = -2.5\n",
    "E_end = 2.5\n",
    "N_pasos = 10\n",
    "\n",
    "E_step = (E_end - E_ini) / N_pasos\n",
    "eta = E_step / 2 #eta = La mitad del paso\n",
    "\n",
    "# Definir el rango de E\n",
    "E_values = np.arange(E_ini, E_end, E_step)\n",
    "\n",
    "# Inicializar la lista para almacenar los valores de tau(E)\n",
    "tau_values = []\n",
    "\n",
    "# Funciones para calcular V_1, V_2, g_1 y g_0 en función de E\n",
    "def calculate_V1(g0, v):\n",
    "    return (2 * g0**3 * v**3) / (g0 - g0**3 * v**2 + 2 * g0**2 * v)\n",
    "\n",
    "def calculate_V2(g0, v):\n",
    "    return (g0 * v - g0**3 * v**3) / (g0 - g0**3 * v**2 + 2 * g0**2 * v)\n",
    "\n",
    "def calculate_g1(g0, v):\n",
    "    return (g0 - g0**3 * v**2 + 2 * g0**2 * v) / (1 - 3 * g0**2 * v**2)\n",
    "\n",
    "def calculate_g0(E, eta):\n",
    "    return 1 / (E - 1j * eta)\n",
    "\n",
    "# Calcular los valores de tau(E)\n",
    "for i,E in enumerate(E_values):\n",
    "    g0 = calculate_g0(E, eta)\n",
    "    V1 = calculate_V1(g0, v)\n",
    "    V2 = calculate_V2(g0, v)\n",
    "    g1 = calculate_g1(g0, v)\n",
    "\n",
    "    # Calcular los determinantes y sustituir los valores\n",
    "    G_1N_value = (determinante_modificado / determinante).subs({V_1: V1, V_2: V2, g_1: g1}) #aca se repite\n",
    "    G_NN_value = (determinante_columnas_modificadas / determinante).subs({V_1: V1, V_2: V2, g_1: g1})\n",
    "\n",
    "    tau_E = gamma**2*(abs(G_1N_value / ((1 + 1j * gamma * G_NN_value / 2)**2 + (G_1N_value)**2 * gamma**2 / 4))**2).as_real_imag()[0]\n",
    "\n",
    "    tau_values.append(float(tau_E.evalf()))\n",
    "    \n",
    "    print(f'paso {i+1}/{N_pasos}  :  energia {E}')\n",
    "    \n",
    "\n"
   ]
  },
  {
   "cell_type": "code",
   "execution_count": 7,
   "id": "d66d2fdc",
   "metadata": {},
   "outputs": [
    {
     "data": {
      "image/png": "[encoded data removed]",
      "text/plain": [
       "<Figure size 640x480 with 1 Axes>"
      ]
     },
     "metadata": {},
     "output_type": "display_data"
    }
   ],
   "source": [
    "# Graficar tau(E)\n",
    "plt.plot(E_values, tau_values, label='$\\\\tau(E)$')\n",
    "plt.xlabel('E')\n",
    "plt.ylabel('$\\\\tau(E)$')\n",
    "plt.legend()\n",
    "plt.grid(True)\n",
    "plt.savefig('transmision-3000.png')"
   ]
  },
  {
   "cell_type": "code",
   "execution_count": 8,
   "id": "493d3718",
   "metadata": {},
   "outputs": [
    {
     "data": {
      "text/plain": [
       "1.8998276590395332e-05"
      ]
     },
     "execution_count": 8,
     "metadata": {},
     "output_type": "execute_result"
    }
   ],
   "source": []
  }
 ],
 "metadata": {
  "kernelspec": {
   "display_name": "Python 3 (ipykernel)",
   "language": "python",
   "name": "python3"
  },
  "language_info": {
   "codemirror_mode": {
    "name": "ipython",
    "version": 3
   },
   "file_extension": ".py",
   "mimetype": "text/x-python",
   "name": "python",
   "nbconvert_exporter": "python",
   "pygments_lexer": "ipython3",
   "version": "3.11.5"
  }
 },
 "nbformat": 4,
 "nbformat_minor": 5
}
